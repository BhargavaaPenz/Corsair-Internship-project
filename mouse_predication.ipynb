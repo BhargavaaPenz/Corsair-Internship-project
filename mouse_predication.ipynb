{
 "cells": [
  {
   "cell_type": "code",
   "execution_count": 27,
   "metadata": {},
   "outputs": [],
   "source": [
    "import pandas as pd\n",
    "from sklearn.preprocessing import LabelEncoder\n",
    "from sklearn.model_selection import train_test_split\n",
    "from sklearn.linear_model import LogisticRegression\n",
    "from sklearn.tree import DecisionTreeClassifier\n",
    "from sklearn.ensemble import RandomForestClassifier\n",
    "from sklearn.neighbors import KNeighborsClassifier\n",
    "from sklearn.metrics import accuracy_score"
   ]
  },
  {
   "cell_type": "code",
   "execution_count": 45,
   "metadata": {},
   "outputs": [],
   "source": [
    "df=pd.read_csv(\"mouse_relationship_dataset.csv\")"
   ]
  },
  {
   "cell_type": "code",
   "execution_count": 46,
   "metadata": {},
   "outputs": [
    {
     "data": {
      "text/html": [
       "<div>\n",
       "<style scoped>\n",
       "    .dataframe tbody tr th:only-of-type {\n",
       "        vertical-align: middle;\n",
       "    }\n",
       "\n",
       "    .dataframe tbody tr th {\n",
       "        vertical-align: top;\n",
       "    }\n",
       "\n",
       "    .dataframe thead th {\n",
       "        text-align: right;\n",
       "    }\n",
       "</style>\n",
       "<table border=\"1\" class=\"dataframe\">\n",
       "  <thead>\n",
       "    <tr style=\"text-align: right;\">\n",
       "      <th></th>\n",
       "      <th>Age</th>\n",
       "      <th>Gender</th>\n",
       "      <th>Usage</th>\n",
       "      <th>Mouse</th>\n",
       "    </tr>\n",
       "  </thead>\n",
       "  <tbody>\n",
       "    <tr>\n",
       "      <th>0</th>\n",
       "      <td>48</td>\n",
       "      <td>Male</td>\n",
       "      <td>Gaming</td>\n",
       "      <td>Corsair Ironclaw Wireless</td>\n",
       "    </tr>\n",
       "    <tr>\n",
       "      <th>1</th>\n",
       "      <td>36</td>\n",
       "      <td>Other</td>\n",
       "      <td>Work</td>\n",
       "      <td>Corsair Scimitar Pro RGB</td>\n",
       "    </tr>\n",
       "    <tr>\n",
       "      <th>2</th>\n",
       "      <td>44</td>\n",
       "      <td>Male</td>\n",
       "      <td>Work</td>\n",
       "      <td>Corsair Scimitar Pro RGB</td>\n",
       "    </tr>\n",
       "    <tr>\n",
       "      <th>3</th>\n",
       "      <td>55</td>\n",
       "      <td>Male</td>\n",
       "      <td>Gaming</td>\n",
       "      <td>Corsair Ironclaw Wireless</td>\n",
       "    </tr>\n",
       "    <tr>\n",
       "      <th>4</th>\n",
       "      <td>55</td>\n",
       "      <td>Other</td>\n",
       "      <td>Work</td>\n",
       "      <td>Corsair Scimitar Pro RGB</td>\n",
       "    </tr>\n",
       "  </tbody>\n",
       "</table>\n",
       "</div>"
      ],
      "text/plain": [
       "   Age Gender   Usage                      Mouse\n",
       "0   48   Male  Gaming  Corsair Ironclaw Wireless\n",
       "1   36  Other    Work   Corsair Scimitar Pro RGB\n",
       "2   44   Male    Work   Corsair Scimitar Pro RGB\n",
       "3   55   Male  Gaming  Corsair Ironclaw Wireless\n",
       "4   55  Other    Work   Corsair Scimitar Pro RGB"
      ]
     },
     "execution_count": 46,
     "metadata": {},
     "output_type": "execute_result"
    }
   ],
   "source": [
    "df.head()"
   ]
  },
  {
   "cell_type": "markdown",
   "metadata": {},
   "source": [
    "We know the data is already clean without any null values because we synthesised it "
   ]
  },
  {
   "cell_type": "code",
   "execution_count": 47,
   "metadata": {},
   "outputs": [
    {
     "name": "stdout",
     "output_type": "stream",
     "text": [
      "<class 'pandas.core.frame.DataFrame'>\n",
      "RangeIndex: 1000 entries, 0 to 999\n",
      "Data columns (total 4 columns):\n",
      " #   Column  Non-Null Count  Dtype \n",
      "---  ------  --------------  ----- \n",
      " 0   Age     1000 non-null   int64 \n",
      " 1   Gender  1000 non-null   object\n",
      " 2   Usage   1000 non-null   object\n",
      " 3   Mouse   1000 non-null   object\n",
      "dtypes: int64(1), object(3)\n",
      "memory usage: 31.4+ KB\n"
     ]
    }
   ],
   "source": [
    "df.info()"
   ]
  },
  {
   "cell_type": "code",
   "execution_count": 48,
   "metadata": {},
   "outputs": [],
   "source": [
    "# Splitting the columns into dependent and independent deatures\n",
    "X = df[['Age', 'Gender', 'Usage']] \n",
    "y = df['Mouse']"
   ]
  },
  {
   "cell_type": "code",
   "execution_count": 49,
   "metadata": {},
   "outputs": [],
   "source": [
    "from sklearn.model_selection import train_test_split\n",
    "\n",
    "X_train, X_test, y_train, y_test = train_test_split(X, y, test_size=0.3, random_state=42)"
   ]
  },
  {
   "cell_type": "code",
   "execution_count": 51,
   "metadata": {},
   "outputs": [
    {
     "name": "stdout",
     "output_type": "stream",
     "text": [
      "\n",
      "Model Accuracies on Test Set:\n",
      "Logistic Regression: 0.7433\n",
      "Decision Tree: 1.0000\n",
      "Random Forest: 1.0000\n",
      "K-Nearest Neighbors: 0.9733\n",
      "\n",
      "Best Model: Decision Tree with accuracy: 1.0000\n"
     ]
    },
    {
     "name": "stderr",
     "output_type": "stream",
     "text": [
      "/opt/anaconda3/lib/python3.12/site-packages/sklearn/linear_model/_logistic.py:469: ConvergenceWarning: lbfgs failed to converge (status=1):\n",
      "STOP: TOTAL NO. of ITERATIONS REACHED LIMIT.\n",
      "\n",
      "Increase the number of iterations (max_iter) or scale the data as shown in:\n",
      "    https://scikit-learn.org/stable/modules/preprocessing.html\n",
      "Please also refer to the documentation for alternative solver options:\n",
      "    https://scikit-learn.org/stable/modules/linear_model.html#logistic-regression\n",
      "  n_iter_i = _check_optimize_result(\n"
     ]
    }
   ],
   "source": [
    "gender_encoder = LabelEncoder()\n",
    "usage_encoder = LabelEncoder()\n",
    "mouse_encoder = LabelEncoder()\n",
    "\n",
    "# Encode training data (fit_transform)\n",
    "X_train['Gender'] = gender_encoder.fit_transform(X_train['Gender'])\n",
    "X_train['Usage'] = usage_encoder.fit_transform(X_train['Usage'])\n",
    "y_train = mouse_encoder.fit_transform(y_train)\n",
    "\n",
    "# Encode testing data (transform only)\n",
    "X_test['Gender'] = gender_encoder.transform(X_test['Gender'])\n",
    "X_test['Usage'] = usage_encoder.transform(X_test['Usage'])\n",
    "y_test = mouse_encoder.transform(y_test)\n",
    "\n",
    "# Step 3: Define and Evaluate Models\n",
    "models = {\n",
    "    \"Logistic Regression\": LogisticRegression(),\n",
    "    \"Decision Tree\": DecisionTreeClassifier(),\n",
    "    \"Random Forest\": RandomForestClassifier(),\n",
    "    \"K-Nearest Neighbors\": KNeighborsClassifier(n_neighbors=3)\n",
    "}\n",
    "\n",
    "model_accuracies = {}\n",
    "\n",
    "for model_name, model in models.items():\n",
    "    # Train the model\n",
    "    model.fit(X_train, y_train)\n",
    "    # Predict on the test set\n",
    "    y_pred = model.predict(X_test)\n",
    "    # Calculate accuracy\n",
    "    accuracy = accuracy_score(y_test, y_pred)\n",
    "    model_accuracies[model_name] = accuracy\n",
    "\n",
    "# Display model accuracies\n",
    "print(\"\\nModel Accuracies on Test Set:\")\n",
    "for model_name, accuracy in model_accuracies.items():\n",
    "    print(f\"{model_name}: {accuracy:.4f}\")\n",
    "\n",
    "# Step 4: Identify the Best Model\n",
    "best_model_name = max(model_accuracies, key=model_accuracies.get)\n",
    "best_model = models[best_model_name]\n",
    "best_model_accuracy = model_accuracies[best_model_name]\n",
    "print(f\"\\nBest Model: {best_model_name} with accuracy: {best_model_accuracy:.4f}\")"
   ]
  },
  {
   "cell_type": "code",
   "execution_count": 54,
   "metadata": {},
   "outputs": [
    {
     "name": "stdout",
     "output_type": "stream",
     "text": [
      "\n",
      "Predicted Mouse Type for input {'Age': [15], 'Gender': ['Female'], 'Usage': ['Gaming']}: ['Corsair Harpoon RGB']\n"
     ]
    }
   ],
   "source": [
    "# Predict New Data\n",
    "new_data = {\n",
    "    'Age': [15],          # Example Age\n",
    "    'Gender': ['Female'], # Example Gender\n",
    "    'Usage': ['Gaming']     # Example Usage\n",
    "}\n",
    "\n",
    "# Convert new data to DataFrame\n",
    "new_df = pd.DataFrame(new_data)\n",
    "\n",
    "# Handle unseen categories for 'Gender' and 'Usage'\n",
    "def safe_transform(column, encoder):\n",
    "    # Replace unseen categories with the first class (default behavior)\n",
    "    column = column.apply(lambda x: x if x in encoder.classes_ else encoder.classes_[0])\n",
    "    return encoder.transform(column)\n",
    "\n",
    "# Apply safe_transform for 'Gender' and 'Usage'\n",
    "new_df['Gender'] = safe_transform(new_df['Gender'], gender_encoder)\n",
    "new_df['Usage'] = safe_transform(new_df['Usage'], usage_encoder)\n",
    "\n",
    "# Predict the output (Mouse Type) using the best model\n",
    "predicted_mouse_encoded = best_model.predict(new_df)\n",
    "\n",
    "# Decode the predicted label back to the original form\n",
    "predicted_mouse = mouse_encoder.inverse_transform(predicted_mouse_encoded)\n",
    "\n",
    "# Display the prediction\n",
    "print(f\"\\nPredicted Mouse Type for input {new_data}: {predicted_mouse}\")"
   ]
  }
 ],
 "metadata": {
  "kernelspec": {
   "display_name": "base",
   "language": "python",
   "name": "python3"
  },
  "language_info": {
   "codemirror_mode": {
    "name": "ipython",
    "version": 3
   },
   "file_extension": ".py",
   "mimetype": "text/x-python",
   "name": "python",
   "nbconvert_exporter": "python",
   "pygments_lexer": "ipython3",
   "version": "3.12.7"
  }
 },
 "nbformat": 4,
 "nbformat_minor": 2
}
